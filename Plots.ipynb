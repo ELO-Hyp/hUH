{
 "cells": [
  {
   "cell_type": "code",
   "execution_count": null,
   "metadata": {},
   "outputs": [],
   "source": [
    "imort sys\n",
    "import os\n",
    "import numpy as np\n",
    "import matplotlib.pyplot as plt\n",
    "import importlib as il\n",
    "from hypso import Hypso1, Hypso2\n",
    "import src.deh as deh\n",
    "\n",
    "HYPSO_HEIGHT    =1092\n",
    "HYPSO_WIDTH     =598\n",
    "HYPSO_BANDS     =112 "
   ]
  },
  {
   "cell_type": "code",
   "execution_count": null,
   "metadata": {},
   "outputs": [],
   "source": [
    "HYPSO_IMAGE_DIR = r\"D:\\Downloads\"\n",
    "DATA_DIR        = r\"D:\\Hierarchical Unmixing Label\\hUH\\data\"\n",
    "IMAGES_DIR      = DATA_DIR + r\"\\images\"\n",
    "DEH_DIR         = DATA_DIR + r\"\\deh_models\"\n",
    "LABELS_DIR      = DATA_DIR + r\"\\labels\"\n",
    "TREE_DIR        = DATA_DIR + r\"\\tree_models\"\n",
    "SVM_DIR    =r'\\\\wsl.localhost\\Ubuntu-24.04\\home\\lofty\\CODE\\onboard-pipeline-modules\\ground_training'"
   ]
  },
  {
   "cell_type": "code",
   "execution_count": null,
   "metadata": {},
   "outputs": [],
   "source": [
    "image_file='vancouver_2025-05-04T19-12-24Z-l1a_flat_L1D_112_MACHI.npy'\n",
    "label_file=\"vancouver_2025-05-04T19-12-24Z-l1a_flat_L1D_112_MACHI16end_labels.npy\"\n",
    "image_path=os.path.join(IMAGES_DIR, image_file)\n",
    "image=np.load(image_path)"
   ]
  },
  {
   "cell_type": "code",
   "execution_count": null,
   "metadata": {},
   "outputs": [],
   "source": [
    "hUH_model='10img_16end_L1D_112_MACHI_stabelized_aa.h5'\n",
    "hUH_model_path=(os.path.join(DEH_DIR, hUH_model))"
   ]
  },
  {
   "cell_type": "markdown",
   "metadata": {},
   "source": [
    "### Plot level n labels for hUH label file(.npy) "
   ]
  },
  {
   "cell_type": "code",
   "execution_count": null,
   "metadata": {},
   "outputs": [],
   "source": [
    "def plot_level_labels(labels_filename, level=None):\n",
    "    \"\"\"\n",
    "    Visualizes binary labels for hierarchical nodes at a specified level.\n",
    "    Highlights overlapping regions between different node labels.\n",
    "    \n",
    "    Args:\n",
    "        labels_filename (str): Name of the .npy file containing binary labels\n",
    "        level (int, optional): Hierarchical level to plot. If None, uses maximum level.\n",
    "    \"\"\"\n",
    "    # Load and prepare data\n",
    "    labels = np.load(os.path.join(LABELS_DIR, labels_filename), allow_pickle=True).item()\n",
    "    max_level = max(len(k) for k in labels.keys())\n",
    "    level = max_level if level is None or level > max_level else level\n",
    "    \n",
    "    # Get nodes at specified level\n",
    "    level_keys = [k for k in labels.keys() if len(k) == level]\n",
    "    if not level_keys:\n",
    "        print(f\"No nodes found at level {level}\")\n",
    "        return\n",
    "\n",
    "    # Setup visualization\n",
    "    plt.figure(figsize=(10, 10))\n",
    "    first_key = level_keys[0]\n",
    "    combined_labels = np.zeros(labels[first_key].reshape(-1, HYPSO_HEIGHT).shape)\n",
    "    \n",
    "    # Calculate overlaps\n",
    "    for key in level_keys:\n",
    "        combined_labels += labels[key].reshape(-1, HYPSO_HEIGHT)\n",
    "    has_overlaps = np.any(combined_labels > 1)\n",
    "    \n",
    "    # Plot individual node labels\n",
    "    for i, key in enumerate(level_keys):\n",
    "        plot_label = labels[key].reshape(-1, HYPSO_HEIGHT)\n",
    "        plot_label = np.flipud(np.rot90(plot_label))\n",
    "        colors = [(1,1,1,0), plt.cm.viridis(i/len(level_keys))]\n",
    "        node_cmap = plt.matplotlib.colors.LinearSegmentedColormap.from_list(f'custom_viridis_{i}', colors)\n",
    "        plt.imshow(plot_label, aspect=0.1, alpha=0.5 if has_overlaps else 1.0, cmap=node_cmap)\n",
    "    \n",
    "    # Highlight overlapping regions\n",
    "    if has_overlaps:\n",
    "        overlap_display = np.rot90((combined_labels > 1).astype(float))\n",
    "        plt.imshow(overlap_display, aspect=0.1, alpha=0.7, cmap='Reds', label='Overlapping Regions')\n",
    "    \n",
    "    # Configure plot\n",
    "    plt.title(f'Binary Labels for Level {level} Nodes')\n",
    "    legend_elements = [plt.Rectangle((0,0),1,1, facecolor=plt.cm.viridis(i/len(level_keys))) \n",
    "                      for i in range(len(level_keys))]\n",
    "    if has_overlaps:\n",
    "        legend_elements.append(plt.Rectangle((0,0),1,1, facecolor='red', alpha=0.7))\n",
    "        legend_labels = list(level_keys) + ['Overlaps']\n",
    "    else:\n",
    "        legend_labels = list(level_keys)\n",
    "    plt.legend(legend_elements, legend_labels, loc='center left', bbox_to_anchor=(1, 0.5))\n",
    "    plt.axis('off')\n",
    "    plt.tight_layout()\n",
    "    plt.show()"
   ]
  },
  {
   "cell_type": "code",
   "execution_count": null,
   "metadata": {},
   "outputs": [],
   "source": [
    "plot_level_labels(label_file, level=7)"
   ]
  },
  {
   "cell_type": "markdown",
   "metadata": {},
   "source": [
    "### Plot level n spectra for hUH model(.h5) and image (.npy)"
   ]
  },
  {
   "cell_type": "code",
   "execution_count": null,
   "metadata": {},
   "outputs": [],
   "source": [
    "def plot_spectra_for_level(save_file_path, cm_input, level_input=None):\n",
    "    \"\"\"\n",
    "    Plot spectral signatures for nodes at a specified level from a DEH model.\n",
    "    \n",
    "    Args:\n",
    "        save_file_path: Path to saved DEH model\n",
    "        cm_input: Input data cube\n",
    "        level_input: Hierarchical level to display (defaults to deepest level)\n",
    "    \"\"\"\n",
    "    DEH_temp = deh.DEH(no_negative_residuals=True)\n",
    "    DEH_temp.load(save_file_path)\n",
    "    cube_image=cm_input.reshape(-1,HYPSO_HEIGHT,HYPSO_BANDS)\n",
    "\n",
    "    DEH_temp.plot_size = (cube_image.shape[0],cube_image.shape[1])\n",
    "    DEH_temp.simple_predict(cm_input)\n",
    "    nodes = DEH_temp.nodes\n",
    "    num_levels = max(len(node) for node in DEH_temp.nodes)\n",
    "    \n",
    "    # If level_input is empty or invalid, use the last level\n",
    "    if level_input == None or not isinstance(level_input, int) or level_input > num_levels or level_input < 1:\n",
    "        level = num_levels\n",
    "    else:\n",
    "        level = level_input\n",
    "        \n",
    "    # Get nodes at specified level\n",
    "    level_nodes = [node for node in nodes if len(node) == level]\n",
    "    print(\"using level\", level, \"with\", len(level_nodes), \"nodes\")\n",
    "    DEH_temp.display_spectra(level_nodes)"
   ]
  },
  {
   "cell_type": "code",
   "execution_count": null,
   "metadata": {},
   "outputs": [],
   "source": [
    "plot_spectra_for_level(hUH_model_path, image, level_input=7)"
   ]
  }
 ],
 "metadata": {
  "kernelspec": {
   "display_name": "Hypso",
   "language": "python",
   "name": "python3"
  },
  "language_info": {
   "codemirror_mode": {
    "name": "ipython",
    "version": 3
   },
   "file_extension": ".py",
   "mimetype": "text/x-python",
   "name": "python",
   "nbconvert_exporter": "python",
   "pygments_lexer": "ipython3",
   "version": "3.10.16"
  }
 },
 "nbformat": 4,
 "nbformat_minor": 2
}
